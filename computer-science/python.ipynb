{
  "cells": [
    {
      "cell_type": "code",
      "execution_count": null,
      "metadata": {},
      "outputs": [],
      "source": [
        "# The Python Tutorial\n",
        "# https://docs.python.org/3/tutorial/index.html#tutorial-index"
      ]
    },
    {
      "cell_type": "code",
      "execution_count": 1,
      "metadata": {},
      "outputs": [],
      "source": [
        "# The Python interpreter is easily extensible with functions and data types implemented in C, C++, or languages callable from C."
      ]
    },
    {
      "cell_type": "code",
      "execution_count": 1,
      "metadata": {
        "colab": {
          "base_uri": "https://localhost:8080/"
        },
        "id": "tctEeio5_wIq",
        "outputId": "5a45c562-49bf-47d1-df49-cfcd3cf65e06"
      },
      "outputs": [
        {
          "data": {
            "text/plain": [
              "70"
            ]
          },
          "execution_count": 1,
          "metadata": {},
          "output_type": "execute_result"
        }
      ],
      "source": [
        "7 * 10"
      ]
    },
    {
      "cell_type": "code",
      "execution_count": 2,
      "metadata": {
        "colab": {
          "base_uri": "https://localhost:8080/"
        },
        "id": "5xfb_QaC_yoA",
        "outputId": "d38c296d-d029-463f-e425-ea12305f67ba"
      },
      "outputs": [
        {
          "data": {
            "text/plain": [
              "70"
            ]
          },
          "execution_count": 2,
          "metadata": {},
          "output_type": "execute_result"
        }
      ],
      "source": [
        "# In interactive mode, last printed expression is assigned to the variable `_`.\n",
        "# NOTE: `_` should be treated as read-only.\n",
        "_"
      ]
    },
    {
      "cell_type": "code",
      "execution_count": 13,
      "metadata": {
        "colab": {
          "base_uri": "https://localhost:8080/"
        },
        "id": "2vzIA1nN_5dM",
        "outputId": "c328be82-d638-47a0-ac05-58e793666a54"
      },
      "outputs": [
        {
          "data": {
            "text/plain": [
              "DecimalTuple(sign=0, digits=(1, 2, 3, 4, 2, 3), exponent=-3)"
            ]
          },
          "execution_count": 13,
          "metadata": {},
          "output_type": "execute_result"
        }
      ],
      "source": [
        "# Decimal gives more control over precision.\n",
        "from decimal import Decimal\n",
        "d=Decimal('000123.423')\n",
        "d.as_integer_ratio()\n",
        "d.as_tuple()"
      ]
    },
    {
      "cell_type": "code",
      "execution_count": 14,
      "metadata": {
        "colab": {
          "base_uri": "https://localhost:8080/"
        },
        "id": "Br-Wj4tUBgtE",
        "outputId": "a989f9f8-8efd-4e48-eaca-f7ba5c9c2623"
      },
      "outputs": [
        {
          "name": "stdout",
          "output_type": "stream",
          "text": [
            "C:\\some\n",
            "ame\n",
            "C:\\some\\name\n"
          ]
        }
      ],
      "source": [
        "# Raw string to avoid interpreting `\\` as special character\n",
        "print('C:\\some\\name')  # here \\n means newline!\n",
        "print(r'C:\\some\\name')  # note the r before the quote"
      ]
    },
    {
      "cell_type": "code",
      "execution_count": 13,
      "metadata": {},
      "outputs": [
        {
          "name": "stdout",
          "output_type": "stream",
          "text": [
            "Function f:\n",
            "> Line 8 is disassembled into the following 4 instructions.\n",
            "  8           0 LOAD_FAST                0 (x)\n",
            "              2 LOAD_CONST               1 (2)\n",
            "              4 BINARY_POWER\n",
            "              6 RETURN_VALUE\n",
            "\n",
            "Function g:\n",
            "> Lines 12 and 13 are disassembled into the following 8 instructions.\n",
            " 12           0 LOAD_FAST                0 (x)\n",
            "              2 LOAD_FAST                0 (x)\n",
            "              4 BINARY_MULTIPLY\n",
            "              6 STORE_FAST               1 (y)\n",
            "\n",
            " 13           8 LOAD_FAST                1 (y)\n",
            "             10 LOAD_CONST               1 (0.5)\n",
            "             12 BINARY_POWER\n",
            "             14 RETURN_VALUE\n"
          ]
        }
      ],
      "source": [
        "# Disassembles code into CPython bytecode (representation of Python program in CPython interpreter)\n",
        "# Bytecode cached in .pyc, and may be re-used, but may not work between Python VMs or releases.\n",
        "# Can print instructions. Instructions can be further disassembled to what occurs in the interpreter stack: STACK.\n",
        "import dis\n",
        "\n",
        "# Function f\n",
        "def f(x):\n",
        "    return x ** 2\n",
        "\n",
        "# Function g\n",
        "def g(x):\n",
        "    y = x * x\n",
        "    return y ** 0.5\n",
        "\n",
        "if __name__ == '__main__':\n",
        "    print('Function f:')\n",
        "    print('> Line 8 is disassembled into the following 4 instructions.')\n",
        "    dis.dis(f)\n",
        "\n",
        "    print('\\nFunction g:')\n",
        "    print('> Lines 12 and 13 are disassembled into the following 8 instructions.')\n",
        "    dis.dis(g)\n"
      ]
    },
    {
      "cell_type": "code",
      "execution_count": 14,
      "metadata": {},
      "outputs": [
        {
          "name": "stdout",
          "output_type": "stream",
          "text": [
            "  4           0 LOAD_CONST               1 ((0, 1))\n",
            "              2 UNPACK_SEQUENCE          2\n",
            "              4 STORE_FAST               1 (a)\n",
            "              6 STORE_FAST               2 (b)\n",
            "\n",
            "  5     >>    8 LOAD_FAST                1 (a)\n",
            "             10 LOAD_FAST                0 (n)\n",
            "             12 COMPARE_OP               0 (<)\n",
            "             14 POP_JUMP_IF_FALSE       32\n",
            "\n",
            "  6          16 LOAD_FAST                2 (b)\n",
            "             18 LOAD_FAST                1 (a)\n",
            "             20 LOAD_FAST                2 (b)\n",
            "             22 BINARY_ADD\n",
            "             24 ROT_TWO\n",
            "             26 STORE_FAST               1 (a)\n",
            "             28 STORE_FAST               2 (b)\n",
            "             30 JUMP_ABSOLUTE            8\n",
            "\n",
            "  7     >>   32 LOAD_FAST                2 (b)\n",
            "             34 RETURN_VALUE\n"
          ]
        }
      ],
      "source": [
        "# Fibonacci series:\n",
        "# the sum of two elements defines the next\n",
        "def fib(n):\n",
        "    a, b = 0, 1\n",
        "    while a < n:\n",
        "        a, b = b, a+b\n",
        "    return b\n",
        "\n",
        "dis.dis(fib)"
      ]
    },
    {
      "cell_type": "code",
      "execution_count": null,
      "metadata": {},
      "outputs": [],
      "source": []
    },
    {
      "cell_type": "code",
      "execution_count": null,
      "metadata": {},
      "outputs": [],
      "source": []
    }
  ],
  "metadata": {
    "colab": {
      "provenance": []
    },
    "kernelspec": {
      "display_name": "test",
      "language": "python",
      "name": "python3"
    },
    "language_info": {
      "codemirror_mode": {
        "name": "ipython",
        "version": 3
      },
      "file_extension": ".py",
      "mimetype": "text/x-python",
      "name": "python",
      "nbconvert_exporter": "python",
      "pygments_lexer": "ipython3",
      "version": "3.9.19"
    }
  },
  "nbformat": 4,
  "nbformat_minor": 0
}
